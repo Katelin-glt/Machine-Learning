{
 "cells": [
  {
   "cell_type": "code",
   "execution_count": 1,
   "id": "understood-creek",
   "metadata": {},
   "outputs": [
    {
     "name": "stdout",
     "output_type": "stream",
     "text": [
      "tensor([ 0,  1,  2,  3,  4,  5,  6,  7,  8,  9, 10, 11])\n",
      "torch.Size([12])\n",
      "12\n",
      "tensor([[ 0,  1,  2,  3],\n",
      "        [ 4,  5,  6,  7],\n",
      "        [ 8,  9, 10, 11]])\n",
      "tensor([[[0., 0., 0., 0.],\n",
      "         [0., 0., 0., 0.],\n",
      "         [0., 0., 0., 0.]],\n",
      "\n",
      "        [[0., 0., 0., 0.],\n",
      "         [0., 0., 0., 0.],\n",
      "         [0., 0., 0., 0.]]])\n",
      "tensor([[[1., 1., 1., 1.],\n",
      "         [1., 1., 1., 1.],\n",
      "         [1., 1., 1., 1.]],\n",
      "\n",
      "        [[1., 1., 1., 1.],\n",
      "         [1., 1., 1., 1.],\n",
      "         [1., 1., 1., 1.]]])\n"
     ]
    }
   ],
   "source": [
    "\"\"\"\n",
    "张量 表示一个数值组成的数组, 这个数组可能有多个维度\n",
    "created by glt 10.07\n",
    "\"\"\"\n",
    "\n",
    "import torch\n",
    "\n",
    "x = torch.arange(12)\n",
    "print(x)\n",
    "print(x.shape)\n",
    "print(x.numel()) # number of element 元素的数量\n",
    "\n",
    "x = x.reshape(3, 4)\n",
    "print(x)\n",
    "\n",
    "zo = torch.zeros((2, 3, 4))\n",
    "one = torch.ones((2, 3, 4))\n",
    "print(zo)\n",
    "print(one)"
   ]
  },
  {
   "cell_type": "code",
   "execution_count": 2,
   "id": "infrared-cathedral",
   "metadata": {},
   "outputs": [
    {
     "name": "stdout",
     "output_type": "stream",
     "text": [
      "tensor([[2, 1, 4, 3],\n",
      "        [1, 2, 3, 4],\n",
      "        [4, 3, 2, 1]])\n",
      "torch.Size([1, 3, 4])\n"
     ]
    }
   ],
   "source": [
    "# 可以通过提供包含数值的python列表(或嵌套列表)来为所需张量中的每个元素赋予确定值\n",
    "temp1 = torch.tensor([[2, 1, 4, 3],\n",
    "                     [1, 2, 3, 4],\n",
    "                     [4, 3, 2, 1]])\n",
    "print(temp1)\n",
    "\n",
    "temp2 = torch.tensor([[[2, 1, 4, 3],\n",
    "                     [1, 2, 3, 4],\n",
    "                     [4, 3, 2, 1]]])\n",
    "print(temp2.shape)  # torch.Size([1, 3, 4])"
   ]
  },
  {
   "cell_type": "code",
   "execution_count": 3,
   "id": "according-schema",
   "metadata": {},
   "outputs": [
    {
     "name": "stdout",
     "output_type": "stream",
     "text": [
      "tensor([ 3,  4,  6, 10])\n",
      "tensor([-1,  0,  2,  6])\n",
      "tensor([ 2,  4,  8, 16])\n",
      "tensor([0.5000, 1.0000, 2.0000, 4.0000])\n",
      "tensor([ 1,  4, 16, 64])\n"
     ]
    }
   ],
   "source": [
    "x = torch.tensor([1, 2, 4, 8])\n",
    "y = torch.tensor([2, 2, 2, 2])\n",
    "print(x + y)\n",
    "print(x - y)\n",
    "print(x * y)\n",
    "print(x / y)\n",
    "print(x ** y)\n"
   ]
  },
  {
   "cell_type": "code",
   "execution_count": 4,
   "id": "random-civilian",
   "metadata": {},
   "outputs": [
    {
     "name": "stdout",
     "output_type": "stream",
     "text": [
      "tensor([[0],\n",
      "        [1],\n",
      "        [2]]) tensor([[0, 1]])\n",
      "tensor([[0, 1],\n",
      "        [1, 2],\n",
      "        [2, 3]])\n"
     ]
    }
   ],
   "source": [
    "a = torch.arange(3).reshape((3, 1))\n",
    "b = torch.arange(2).reshape((1, 2))\n",
    "print(a, b)\n",
    "\n",
    "# 即使形状不同，仍然可以通过调用广播机制(broadcasting mechanism)来执行按元素操作\n",
    "# 首先需要a和b维度相同，都是2维数组。把a的1维度复制为2维度，a成3*2的矩阵，b复制为3*2的矩阵，然后再相加\n",
    "print(a + b)"
   ]
  },
  {
   "cell_type": "code",
   "execution_count": 5,
   "id": "expanded-establishment",
   "metadata": {},
   "outputs": [
    {
     "name": "stdout",
     "output_type": "stream",
     "text": [
      "tensor([[ 0.,  1.,  2.,  3.],\n",
      "        [ 4.,  5.,  6.,  7.],\n",
      "        [ 8.,  9., 10., 11.],\n",
      "        [ 2.,  1.,  4.,  3.],\n",
      "        [ 1.,  2.,  3.,  4.],\n",
      "        [ 4.,  3.,  2.,  1.]])\n",
      "tensor([[ 0.,  1.,  2.,  3.,  2.,  1.,  4.,  3.],\n",
      "        [ 4.,  5.,  6.,  7.,  1.,  2.,  3.,  4.],\n",
      "        [ 8.,  9., 10., 11.,  4.,  3.,  2.,  1.]])\n",
      "tensor([[False,  True, False,  True],\n",
      "        [False, False, False, False],\n",
      "        [False, False, False, False]])\n",
      "tensor(66.)\n",
      "tensor([ 8.,  9., 10., 11.])\n",
      "tensor([[ 4.,  5.,  6.,  7.],\n",
      "        [ 8.,  9., 10., 11.]])\n",
      "tensor([[ 0.,  1.,  2.,  3.],\n",
      "        [ 4.,  5.,  9.,  7.],\n",
      "        [ 8.,  9., 10., 11.]])\n",
      "tensor([[12., 12., 12., 12.],\n",
      "        [12., 12., 12., 12.],\n",
      "        [ 8.,  9., 10., 11.]])\n"
     ]
    }
   ],
   "source": [
    "x1 = torch.arange(12, dtype=torch.float32).reshape(3, 4)\n",
    "x2 = torch.tensor([[2.0, 1, 4, 3],\n",
    "                   [1, 2, 3, 4],\n",
    "                   [4, 3, 2, 1]])\n",
    "print(torch.cat((x1, x2), dim=0)) # dim=0 按行合并\n",
    "print(torch.cat((x1, x2), dim=1)) # dim=1 按列合并\n",
    "\n",
    "print(x1 == x2)\n",
    "print(x1.sum())\n",
    "\n",
    "\n",
    "# 元素的访问\n",
    "print(x1[-1])  # 访问最后一行\n",
    "print(x1[1: 3]) # 访问第1行和第2行\n",
    "\n",
    "x1[1, 2] = 9\n",
    "print(x1)\n",
    "x1[0:2, :] = 12\n",
    "print(x1)"
   ]
  },
  {
   "cell_type": "code",
   "execution_count": 6,
   "id": "critical-opera",
   "metadata": {},
   "outputs": [
    {
     "data": {
      "text/plain": [
       "False"
      ]
     },
     "execution_count": 6,
     "metadata": {},
     "output_type": "execute_result"
    }
   ],
   "source": [
    "# 运行一些操作可能会导致为新结果分配内存\n",
    "\n",
    "X = torch.arange(12, dtype=torch.float32).reshape(3, 4)\n",
    "Y= torch.tensor([[2.0, 1, 4, 3],\n",
    "                   [1, 2, 3, 4],\n",
    "                   [4, 3, 2, 1]])\n",
    "before = id(Y)\n",
    "Y = Y + X\n",
    "id(Y) == before"
   ]
  },
  {
   "cell_type": "code",
   "execution_count": 7,
   "id": "purple-target",
   "metadata": {},
   "outputs": [
    {
     "name": "stdout",
     "output_type": "stream",
     "text": [
      "id(z):  140488874811568\n",
      "id(z):  140488874811568\n"
     ]
    }
   ],
   "source": [
    "# 执行原地操作\n",
    "z = torch.zeros_like(Y)\n",
    "print('id(z): ', id(z))\n",
    "z[:] = X + Y\n",
    "print('id(z): ', id(z))"
   ]
  },
  {
   "cell_type": "code",
   "execution_count": 8,
   "id": "norwegian-nation",
   "metadata": {},
   "outputs": [
    {
     "data": {
      "text/plain": [
       "True"
      ]
     },
     "execution_count": 8,
     "metadata": {},
     "output_type": "execute_result"
    }
   ],
   "source": [
    "# 如果在后续计算中没有重复使用X，可以使用X[:] = X + Y 或 X += Y 来减少操作的内存开销\n",
    "before = id(X)\n",
    "X += Y\n",
    "id(X) == before"
   ]
  },
  {
   "cell_type": "code",
   "execution_count": 9,
   "id": "reliable-commonwealth",
   "metadata": {},
   "outputs": [
    {
     "name": "stdout",
     "output_type": "stream",
     "text": [
      "<class 'numpy.ndarray'>\n",
      "<class 'torch.Tensor'>\n"
     ]
    }
   ],
   "source": [
    "A = X.numpy() # 转换为Numpy张量\n",
    "B = torch.tensor(A)\n",
    "print(type(A))\n",
    "print(type(B))"
   ]
  },
  {
   "cell_type": "code",
   "execution_count": 10,
   "id": "accessible-cheese",
   "metadata": {},
   "outputs": [
    {
     "name": "stdout",
     "output_type": "stream",
     "text": [
      "tensor([3.5000])\n",
      "3.5\n",
      "3.5\n",
      "3\n"
     ]
    }
   ],
   "source": [
    "# 将大小为1的张量转换为python标量\n",
    "a = torch.tensor([3.5])\n",
    "print(a)\n",
    "print(a.item())\n",
    "print(float(a))\n",
    "print(int(a))"
   ]
  },
  {
   "cell_type": "code",
   "execution_count": null,
   "id": "freelance-record",
   "metadata": {},
   "outputs": [],
   "source": []
  },
  {
   "cell_type": "code",
   "execution_count": null,
   "id": "bronze-domestic",
   "metadata": {},
   "outputs": [],
   "source": []
  }
 ],
 "metadata": {
  "kernelspec": {
   "display_name": "Python 3",
   "language": "python",
   "name": "python3"
  },
  "language_info": {
   "codemirror_mode": {
    "name": "ipython",
    "version": 3
   },
   "file_extension": ".py",
   "mimetype": "text/x-python",
   "name": "python",
   "nbconvert_exporter": "python",
   "pygments_lexer": "ipython3",
   "version": "3.7.9"
  }
 },
 "nbformat": 4,
 "nbformat_minor": 5
}
